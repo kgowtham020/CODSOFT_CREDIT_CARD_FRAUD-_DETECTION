{
  "nbformat": 4,
  "nbformat_minor": 0,
  "metadata": {
    "colab": {
      "provenance": []
    },
    "kernelspec": {
      "name": "python3",
      "display_name": "Python 3"
    },
    "language_info": {
      "name": "python"
    }
  },
  "cells": [
    {
      "cell_type": "code",
      "execution_count": null,
      "metadata": {
        "colab": {
          "base_uri": "https://localhost:8080/"
        },
        "id": "9JZDyuivfrR9",
        "outputId": "a8e25596-caab-4f8c-92b5-c6d6aafeaf67"
      },
      "outputs": [
        {
          "output_type": "stream",
          "name": "stdout",
          "text": [
            "Classification Report:\n",
            "               precision    recall  f1-score   support\n",
            "\n",
            "           0       0.99      1.00      1.00    552781\n",
            "           1       0.00      0.00      0.00      2938\n",
            "\n",
            "    accuracy                           0.99    555719\n",
            "   macro avg       0.50      0.50      0.50    555719\n",
            "weighted avg       0.99      0.99      0.99    555719\n",
            "\n",
            "Confusion Matrix:\n",
            " [[552545    236]\n",
            " [  2938      0]]\n",
            "ROC-AUC Score: 0.49978653390764155\n"
          ]
        }
      ],
      "source": [
        "import pandas as pd\n",
        "from sklearn.model_selection import train_test_split\n",
        "from sklearn.preprocessing import StandardScaler, OneHotEncoder\n",
        "from sklearn.impute import SimpleImputer\n",
        "from sklearn.compose import ColumnTransformer\n",
        "from sklearn.pipeline import Pipeline\n",
        "from sklearn.linear_model import LogisticRegression\n",
        "from sklearn.metrics import classification_report, confusion_matrix, roc_auc_score\n",
        "\n",
        "# Load the dataset\n",
        "train_data = pd.read_csv('fraudTrain.csv')\n",
        "test_data = pd.read_csv('fraudTest.csv')\n",
        "\n",
        "# Combine train and test data if needed, or use them separately\n",
        "data = pd.concat([train_data, test_data])\n",
        "\n",
        "# Separate features and target\n",
        "X = data.drop(['is_fraud', 'trans_date_trans_time'], axis=1)  # Dropping 'trans_date_trans_time' if not needed\n",
        "y = data['is_fraud']\n",
        "\n",
        "# Split the data\n",
        "X_train, X_test, y_train, y_test = train_test_split(X, y, test_size=0.3, random_state=42)\n",
        "\n",
        "# Define preprocessing steps\n",
        "numeric_features = X.select_dtypes(include=['number'])\n",
        "categorical_features = X.select_dtypes(include=['category'])\n",
        "\n",
        "numeric_transformer = Pipeline(steps=[\n",
        "    ('imputer', SimpleImputer(strategy='median')),\n",
        "    ('scaler', StandardScaler())\n",
        "])\n",
        "\n",
        "categorical_transformer = Pipeline(steps=[\n",
        "    ('imputer', SimpleImputer(strategy='constant', fill_value='missing')),\n",
        "    ('onehot', OneHotEncoder(handle_unknown='ignore'))\n",
        "])\n",
        "\n",
        "preprocessor = ColumnTransformer(\n",
        "    transformers=[\n",
        "        ('num', numeric_transformer, numeric_features.columns),\n",
        "        ('cat', categorical_transformer, categorical_features.columns)\n",
        "    ])\n",
        "\n",
        "# Preprocess the data\n",
        "X_train_preprocessed = preprocessor.fit_transform(X_train)\n",
        "X_test_preprocessed = preprocessor.transform(X_test)\n",
        "\n",
        "# Train the model\n",
        "model = LogisticRegression()\n",
        "model.fit(X_train_preprocessed, y_train)\n",
        "\n",
        "# Make predictions\n",
        "y_pred = model.predict(X_test_preprocessed)\n",
        "\n",
        "# Evaluate the model\n",
        "print(\"Classification Report:\\n\", classification_report(y_test, y_pred))\n",
        "print(\"Confusion Matrix:\\n\", confusion_matrix(y_test, y_pred))\n",
        "print(\"ROC-AUC Score:\", roc_auc_score(y_test, y_pred))\n"
      ]
    }
  ]
}